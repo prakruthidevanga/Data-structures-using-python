{
 "cells": [
  {
   "cell_type": "markdown",
   "id": "0a48727d-2cce-419f-884d-3c3365ca923d",
   "metadata": {},
   "source": [
    "implement a stack for que operation  use 2 stacks"
   ]
  },
  {
   "cell_type": "code",
   "execution_count": 3,
   "id": "2b83f044-1bd9-4176-97f8-5db8dbae8e3f",
   "metadata": {},
   "outputs": [
    {
     "name": "stdout",
     "output_type": "stream",
     "text": [
      "Queue after enqueues:\n",
      "[1, 2, 3, 4]\n",
      "Dequeued:\n",
      "1\n",
      "2\n",
      "Queue after dequeues:\n",
      "[3, 4]\n",
      "Front element:\n",
      "3\n",
      "Is queue empty?\n",
      "Queue is not empty\n"
     ]
    }
   ],
   "source": [
    "class QueueUsingStacks:\n",
    "    def __init__(self):\n",
    "        self.stack1 = []  # Input stack\n",
    "        self.stack2 = []  # Output stack\n",
    "\n",
    "    def enqueue(self, x):\n",
    "        \"\"\"Push element into the queue\"\"\"\n",
    "        self.stack1.append(x)\n",
    "\n",
    "    def dequeue(self):\n",
    "        \"\"\"Remove element from the front of the queue and print it\"\"\"\n",
    "        if not self.stack2:\n",
    "            if not self.stack1:\n",
    "                print(\"Queue is empty\")\n",
    "                return  # Just exits function\n",
    "            while self.stack1:\n",
    "                self.stack2.append(self.stack1.pop())\n",
    "        print(self.stack2.pop())  # Print dequeued value instead of returning it\n",
    "\n",
    "    def peek(self):\n",
    "        \"\"\"Print the front element without removing it\"\"\"\n",
    "        if not self.stack2:\n",
    "            while self.stack1:\n",
    "                self.stack2.append(self.stack1.pop())\n",
    "        if self.stack2:\n",
    "            print(self.stack2[-1])\n",
    "        else:\n",
    "            print(\"Queue is empty\")\n",
    "\n",
    "    def is_empty(self):\n",
    "        \"\"\"Print whether the queue is empty\"\"\"\n",
    "        if not self.stack1 and not self.stack2:\n",
    "            print(\"Queue is empty\")\n",
    "        else:\n",
    "            print(\"Queue is not empty\")\n",
    "\n",
    "    def display(self):\n",
    "        \"\"\"Print the queue elements\"\"\"\n",
    "        if self.stack2:\n",
    "            print(list(reversed(self.stack2)) + self.stack1)\n",
    "        else:\n",
    "            print(self.stack1)\n",
    "\n",
    "# Example Usage\n",
    "q = QueueUsingStacks()\n",
    "q.enqueue(1)\n",
    "q.enqueue(2)\n",
    "q.enqueue(3)\n",
    "q.enqueue(4)\n",
    "\n",
    "print(\"Queue after enqueues:\")\n",
    "q.display()\n",
    "\n",
    "print(\"Dequeued:\")\n",
    "q.dequeue()  # Output: 1\n",
    "q.dequeue()  # Output: 2\n",
    "\n",
    "print(\"Queue after dequeues:\")\n",
    "q.display()\n",
    "\n",
    "print(\"Front element:\")\n",
    "q.peek()  # Output: 3\n",
    "\n",
    "print(\"Is queue empty?\")\n",
    "q.is_empty()  # Output: Queue is not empty\n"
   ]
  }
 ],
 "metadata": {
  "kernelspec": {
   "display_name": "Python 3 (ipykernel)",
   "language": "python",
   "name": "python3"
  },
  "language_info": {
   "codemirror_mode": {
    "name": "ipython",
    "version": 3
   },
   "file_extension": ".py",
   "mimetype": "text/x-python",
   "name": "python",
   "nbconvert_exporter": "python",
   "pygments_lexer": "ipython3",
   "version": "3.12.4"
  }
 },
 "nbformat": 4,
 "nbformat_minor": 5
}
