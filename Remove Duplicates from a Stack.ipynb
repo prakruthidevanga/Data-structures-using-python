{
 "cells": [
  {
   "cell_type": "markdown",
   "id": "213c9360-6bcd-471a-8c5b-24b8e92effa8",
   "metadata": {},
   "source": [
    "remove duplicates from stack"
   ]
  },
  {
   "cell_type": "code",
   "execution_count": 1,
   "id": "b760bfc8-fdb8-406e-bcef-b190d8831a9e",
   "metadata": {},
   "outputs": [
    {
     "name": "stdout",
     "output_type": "stream",
     "text": [
      "[1, 2, 3, 4, 5]\n"
     ]
    }
   ],
   "source": [
    "def remove_duplicates(stack):\n",
    "    seen = set()\n",
    "    new_stack = []\n",
    "    \n",
    "    while stack:\n",
    "        item = stack.pop()\n",
    "        if item not in seen:\n",
    "            seen.add(item)\n",
    "            new_stack.append(item)\n",
    "    \n",
    "    return new_stack[::-1]  # Reverse to maintain order\n",
    "\n",
    "# Example Usage\n",
    "stack = [1, 2, 2, 3, 4, 4, 5]\n",
    "print(remove_duplicates(stack))  "
   ]
  },
  {
   "cell_type": "code",
   "execution_count": null,
   "id": "508bd62a-efc4-4bcf-a93d-112ec7bd075c",
   "metadata": {},
   "outputs": [],
   "source": []
  }
 ],
 "metadata": {
  "kernelspec": {
   "display_name": "Python 3 (ipykernel)",
   "language": "python",
   "name": "python3"
  },
  "language_info": {
   "codemirror_mode": {
    "name": "ipython",
    "version": 3
   },
   "file_extension": ".py",
   "mimetype": "text/x-python",
   "name": "python",
   "nbconvert_exporter": "python",
   "pygments_lexer": "ipython3",
   "version": "3.12.4"
  }
 },
 "nbformat": 4,
 "nbformat_minor": 5
}
