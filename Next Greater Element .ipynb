{
 "cells": [
  {
   "cell_type": "markdown",
   "id": "1c9b3b42-1986-42a0-9f43-b4d701de188c",
   "metadata": {},
   "source": [
    "Next Greater Element "
   ]
  },
  {
   "cell_type": "code",
   "execution_count": 1,
   "id": "dca36507-854d-4773-94e2-98910a6c5620",
   "metadata": {},
   "outputs": [
    {
     "name": "stdout",
     "output_type": "stream",
     "text": [
      "Next Greater Elements: [5, 10, 10, -1, -1]\n"
     ]
    }
   ],
   "source": [
    "#Next Greater Element \n",
    "def next_greater_element(arr):\n",
    "    stack = []\n",
    "    result = [-1] * len(arr)  # Initialize result with -1\n",
    "    \n",
    "    for i in range(len(arr) - 1, -1, -1):  # Traverse from right to left\n",
    "        while stack and stack[-1] <= arr[i]:\n",
    "            stack.pop()  # Remove smaller elements\n",
    "        \n",
    "        if stack:  # If stack is not empty, top is the next greater element\n",
    "            result[i] = stack[-1]\n",
    "        \n",
    "        stack.append(arr[i])  # Push current element to stack\n",
    "    \n",
    "    return result\n",
    "\n",
    "# Example Usage\n",
    "arr = [4, 5, 2, 10, 8]\n",
    "print(\"Next Greater Elements:\", next_greater_element(arr))\n"
   ]
  }
 ],
 "metadata": {
  "kernelspec": {
   "display_name": "Python 3 (ipykernel)",
   "language": "python",
   "name": "python3"
  },
  "language_info": {
   "codemirror_mode": {
    "name": "ipython",
    "version": 3
   },
   "file_extension": ".py",
   "mimetype": "text/x-python",
   "name": "python",
   "nbconvert_exporter": "python",
   "pygments_lexer": "ipython3",
   "version": "3.12.4"
  }
 },
 "nbformat": 4,
 "nbformat_minor": 5
}
