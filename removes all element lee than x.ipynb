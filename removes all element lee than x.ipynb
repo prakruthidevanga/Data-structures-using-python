{
 "cells": [
  {
   "cell_type": "code",
   "execution_count": 1,
   "id": "82e158b0-b736-43a8-8847-5d3d06c6ef22",
   "metadata": {},
   "outputs": [],
   "source": [
    "#remove all elements less than X"
   ]
  },
  {
   "cell_type": "code",
   "execution_count": 3,
   "id": "f404b93c-d0c9-4206-93bb-a609c835fa56",
   "metadata": {},
   "outputs": [
    {
     "name": "stdout",
     "output_type": "stream",
     "text": [
      "Filtered Queue: [10, 7, 15]\n"
     ]
    }
   ],
   "source": []
  },
  {
   "cell_type": "code",
   "execution_count": null,
   "id": "f9f41080-1cb4-453e-98f8-b5fd87731ed1",
   "metadata": {},
   "outputs": [],
   "source": []
  }
 ],
 "metadata": {
  "kernelspec": {
   "display_name": "Python 3 (ipykernel)",
   "language": "python",
   "name": "python3"
  },
  "language_info": {
   "codemirror_mode": {
    "name": "ipython",
    "version": 3
   },
   "file_extension": ".py",
   "mimetype": "text/x-python",
   "name": "python",
   "nbconvert_exporter": "python",
   "pygments_lexer": "ipython3",
   "version": "3.12.4"
  }
 },
 "nbformat": 4,
 "nbformat_minor": 5
}
