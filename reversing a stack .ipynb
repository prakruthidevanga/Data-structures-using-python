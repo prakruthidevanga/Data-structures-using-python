{
 "cells": [
  {
   "cell_type": "code",
   "execution_count": 1,
   "id": "43a06b65-8050-4d41-91b4-a169f077b75d",
   "metadata": {},
   "outputs": [
    {
     "ename": "AttributeError",
     "evalue": "'Stack' object has no attribute 'stack'",
     "output_type": "error",
     "traceback": [
      "\u001b[1;31m---------------------------------------------------------------------------\u001b[0m",
      "\u001b[1;31mAttributeError\u001b[0m                            Traceback (most recent call last)",
      "Cell \u001b[1;32mIn[1], line 33\u001b[0m\n\u001b[0;32m     31\u001b[0m \u001b[38;5;66;03m# Example usage\u001b[39;00m\n\u001b[0;32m     32\u001b[0m stack \u001b[38;5;241m=\u001b[39m Stack()\n\u001b[1;32m---> 33\u001b[0m stack\u001b[38;5;241m.\u001b[39mpush(\u001b[38;5;241m3\u001b[39m)\n\u001b[0;32m     34\u001b[0m stack\u001b[38;5;241m.\u001b[39mpush(\u001b[38;5;241m1\u001b[39m)\n\u001b[0;32m     35\u001b[0m stack\u001b[38;5;241m.\u001b[39mpush(\u001b[38;5;241m4\u001b[39m)\n",
      "Cell \u001b[1;32mIn[1], line 7\u001b[0m, in \u001b[0;36mStack.push\u001b[1;34m(self, item)\u001b[0m\n\u001b[0;32m      6\u001b[0m \u001b[38;5;28;01mdef\u001b[39;00m \u001b[38;5;21mpush\u001b[39m(\u001b[38;5;28mself\u001b[39m, item):\n\u001b[1;32m----> 7\u001b[0m     \u001b[38;5;28mself\u001b[39m\u001b[38;5;241m.\u001b[39mstack\u001b[38;5;241m.\u001b[39mappend(item)\n",
      "\u001b[1;31mAttributeError\u001b[0m: 'Stack' object has no attribute 'stack'"
     ]
    }
   ],
   "source": [
    "#Reversing a stack \n",
    "class Stack:\n",
    "    def _init_(self):\n",
    "        self.stack = []\n",
    "\n",
    "    def push(self, item):\n",
    "        self.stack.append(item)\n",
    "\n",
    "    def pop(self):\n",
    "        if not self.is_empty():\n",
    "            return self.stack.pop()\n",
    "        return None\n",
    "\n",
    "    def is_empty(self):\n",
    "        return len(self.stack) == 0\n",
    "\n",
    "    def reverse_stack(self):\n",
    "        if not self.is_empty():\n",
    "            temp = self.pop()\n",
    "            self.reverse_stack()\n",
    "            self.insert_at_bottom(temp)\n",
    "\n",
    "    def insert_at_bottom(self, item):\n",
    "        if self.is_empty():\n",
    "            self.push(item)\n",
    "        else:\n",
    "            temp = self.pop()\n",
    "            self.insert_at_bottom(item)\n",
    "            self.push(temp)\n",
    "\n",
    "# Example usage\n",
    "stack = Stack()\n",
    "stack.push(3)\n",
    "stack.push(1)\n",
    "stack.push(4)\n",
    "stack.push(2)\n",
    "print(\"Original Stack:\", stack.stack)\n",
    "stack.reverse_stack()\n",
    "print(\"Reversed Stack:\", stack.stack)"
   ]
  },
  {
   "cell_type": "code",
   "execution_count": null,
   "id": "97794b50-6137-4a07-b92b-76182afb587e",
   "metadata": {},
   "outputs": [],
   "source": []
  }
 ],
 "metadata": {
  "kernelspec": {
   "display_name": "Python 3 (ipykernel)",
   "language": "python",
   "name": "python3"
  },
  "language_info": {
   "codemirror_mode": {
    "name": "ipython",
    "version": 3
   },
   "file_extension": ".py",
   "mimetype": "text/x-python",
   "name": "python",
   "nbconvert_exporter": "python",
   "pygments_lexer": "ipython3",
   "version": "3.12.4"
  }
 },
 "nbformat": 4,
 "nbformat_minor": 5
}
