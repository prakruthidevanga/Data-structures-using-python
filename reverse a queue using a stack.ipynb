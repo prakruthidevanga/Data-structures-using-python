{
 "cells": [
  {
   "cell_type": "markdown",
   "id": "6ab047ea-3cf1-482d-b67f-789659245aca",
   "metadata": {},
   "source": [
    "reverse a queue using a stack"
   ]
  },
  {
   "cell_type": "code",
   "execution_count": 3,
   "id": "c0d66dff-0876-4e7c-b198-aca793973dec",
   "metadata": {},
   "outputs": [
    {
     "name": "stdout",
     "output_type": "stream",
     "text": [
      "Reversed Queue: [5, 4, 3, 2, 1]\n"
     ]
    }
   ],
   "source": [
    "def reverse_queue(queue):\n",
    "    stack = []\n",
    "\n",
    "    # Step 1: Move all elements from queue to stack\n",
    "    while queue:\n",
    "        stack.append(queue.pop(0))  # Simulate queue dequeue (FIFO)\n",
    "\n",
    "    # Step 2: Move elements back from stack to queue (reversed order)\n",
    "    while stack:\n",
    "        queue.append(stack.pop())  # Stack pop (LIFO)\n",
    "\n",
    "# Example Usage\n",
    "q = [1, 2, 3, 4, 5]  # Using list as queue\n",
    "reverse_queue(q)\n",
    "print(\"Reversed Queue:\", q)  # Output: [5, 4, 3, 2, 1]\n"
   ]
  }
 ],
 "metadata": {
  "kernelspec": {
   "display_name": "Python 3 (ipykernel)",
   "language": "python",
   "name": "python3"
  },
  "language_info": {
   "codemirror_mode": {
    "name": "ipython",
    "version": 3
   },
   "file_extension": ".py",
   "mimetype": "text/x-python",
   "name": "python",
   "nbconvert_exporter": "python",
   "pygments_lexer": "ipython3",
   "version": "3.12.4"
  }
 },
 "nbformat": 4,
 "nbformat_minor": 5
}
