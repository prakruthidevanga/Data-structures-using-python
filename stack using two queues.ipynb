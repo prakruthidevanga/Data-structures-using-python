{
 "cells": [
  {
   "cell_type": "markdown",
   "id": "f421fab1-154f-4cd2-8c43-f5601f86996f",
   "metadata": {},
   "source": [
    "stack implementation using two queues "
   ]
  },
  {
   "cell_type": "code",
   "execution_count": 9,
   "id": "f34e2830-6d26-44c4-b140-be8a307e708c",
   "metadata": {},
   "outputs": [
    {
     "name": "stdout",
     "output_type": "stream",
     "text": [
      "4\n",
      "4\n",
      "3\n",
      "3\n",
      "Stack is not empty\n"
     ]
    }
   ],
   "source": [
    "class StackUsingQueues:\n",
    "    def __init__(self):\n",
    "        self.q1 = []  # Main queue\n",
    "        self.q2 = []  # Temporary queue\n",
    "\n",
    "    def push(self, x):\n",
    "        \"\"\"Push element onto the stack\"\"\"\n",
    "        self.q1.append(x)\n",
    "\n",
    "    def pop(self):\n",
    "        \"\"\"Remove and print the top element\"\"\"\n",
    "        if not self.q1:\n",
    "            print(\"Stack is empty\")\n",
    "            return\n",
    "        \n",
    "        while len(self.q1) > 1:\n",
    "            self.q2.append(self.q1.pop(0))  # Move all but last to q2\n",
    "        \n",
    "        print(self.q1.pop(0))  # Remove and print the last element\n",
    "\n",
    "        self.q1, self.q2 = self.q2, self.q1  # Swap the queues\n",
    "\n",
    "    def top(self):\n",
    "        \"\"\"Print the top element without removing it\"\"\"\n",
    "        if not self.q1:\n",
    "            print(\"Stack is empty\")\n",
    "            return\n",
    "\n",
    "        while len(self.q1) > 1:\n",
    "            self.q2.append(self.q1.pop(0))\n",
    "\n",
    "        top_element = self.q1[0]  # Get last element\n",
    "        print(top_element)\n",
    "\n",
    "        self.q2.append(self.q1.pop(0))  # Move it to q2\n",
    "        self.q1, self.q2 = self.q2, self.q1  # Swap the queues\n",
    "\n",
    "    def is_empty(self):\n",
    "        \"\"\"Check if the stack is empty\"\"\"\n",
    "        print(\"Stack is empty\" if not self.q1 else \"Stack is not empty\")\n",
    "\n",
    "# Example Usage\n",
    "s = StackUsingQueues()\n",
    "s.push(1)\n",
    "s.push(2)\n",
    "s.push(3)\n",
    "s.push(4)\n",
    "\n",
    "s.top()  \n",
    "s.pop()  \n",
    "s.top()  \n",
    "s.pop()  \n",
    "s.is_empty()  \n"
   ]
  },
  {
   "cell_type": "code",
   "execution_count": null,
   "id": "9448e3bd-5d42-4bd4-b5a7-ebdafb979c4d",
   "metadata": {},
   "outputs": [],
   "source": []
  }
 ],
 "metadata": {
  "kernelspec": {
   "display_name": "Python 3 (ipykernel)",
   "language": "python",
   "name": "python3"
  },
  "language_info": {
   "codemirror_mode": {
    "name": "ipython",
    "version": 3
   },
   "file_extension": ".py",
   "mimetype": "text/x-python",
   "name": "python",
   "nbconvert_exporter": "python",
   "pygments_lexer": "ipython3",
   "version": "3.12.4"
  }
 },
 "nbformat": 4,
 "nbformat_minor": 5
}
