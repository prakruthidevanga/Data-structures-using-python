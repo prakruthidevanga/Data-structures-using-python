{
 "cells": [
  {
   "cell_type": "markdown",
   "id": "4900349a-26c1-4933-8f54-a6c5317fa2d3",
   "metadata": {},
   "source": [
    "stack sort algorithm "
   ]
  },
  {
   "cell_type": "code",
   "execution_count": 5,
   "id": "92bb6593-98ce-4046-9de3-b1ff785599b0",
   "metadata": {},
   "outputs": [
    {
     "name": "stdout",
     "output_type": "stream",
     "text": [
      "Original Stack:\n",
      "[3, 1, 4, 2, 5]\n",
      "Sorted Stack:\n",
      "[1, 2, 3, 4, 5]\n"
     ]
    }
   ],
   "source": [
    "class Stack:\n",
    "    def __init__(self):\n",
    "        self.stack = []\n",
    "\n",
    "    def push(self, x):\n",
    "        self.stack.append(x)\n",
    "\n",
    "    def pop(self):\n",
    "        if not self.is_empty():\n",
    "            return self.stack.pop()\n",
    "        return \"Stack is empty\"\n",
    "\n",
    "    def peek(self):\n",
    "        if not self.is_empty():\n",
    "            return self.stack[-1]\n",
    "        return \"Stack is empty\"\n",
    "\n",
    "    def is_empty(self):\n",
    "        return len(self.stack) == 0\n",
    "\n",
    "    def display(self):\n",
    "        print(self.stack)\n",
    "\n",
    "    # Function to insert an element in sorted order\n",
    "    def sorted_insert(self, element):\n",
    "        if self.is_empty() or self.peek() <= element:\n",
    "            self.push(element)\n",
    "        else:\n",
    "            temp = self.pop()\n",
    "            self.sorted_insert(element)\n",
    "            self.push(temp)\n",
    "\n",
    "    # Recursive function to sort the stack\n",
    "    def sort_stack(self):\n",
    "        if not self.is_empty():\n",
    "            temp = self.pop()\n",
    "            self.sort_stack()\n",
    "            self.sorted_insert(temp)\n",
    "\n",
    "# Example Usage\n",
    "s = Stack()\n",
    "s.push(3)\n",
    "s.push(1)\n",
    "s.push(4)\n",
    "s.push(2)\n",
    "s.push(5)\n",
    "\n",
    "print(\"Original Stack:\")\n",
    "s.display()\n",
    "\n",
    "s.sort_stack()\n",
    "print(\"Sorted Stack:\")\n",
    "s.display()\n"
   ]
  }
 ],
 "metadata": {
  "kernelspec": {
   "display_name": "Python 3 (ipykernel)",
   "language": "python",
   "name": "python3"
  },
  "language_info": {
   "codemirror_mode": {
    "name": "ipython",
    "version": 3
   },
   "file_extension": ".py",
   "mimetype": "text/x-python",
   "name": "python",
   "nbconvert_exporter": "python",
   "pygments_lexer": "ipython3",
   "version": "3.12.4"
  }
 },
 "nbformat": 4,
 "nbformat_minor": 5
}
