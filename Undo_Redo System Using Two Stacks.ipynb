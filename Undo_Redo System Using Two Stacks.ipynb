{
 "cells": [
  {
   "cell_type": "markdown",
   "id": "7b3a4080-e92f-4e85-88f6-63ee9c533971",
   "metadata": {},
   "source": [
    "Undo_Redo System Using Two Stacks"
   ]
  },
  {
   "cell_type": "code",
   "execution_count": 3,
   "id": "3249544a-7240-4e78-99f5-d385081df0b6",
   "metadata": {},
   "outputs": [
    {
     "name": "stdout",
     "output_type": "stream",
     "text": [
      "History: ['Draw']\n",
      "Redo Stack: ['Erase']\n",
      "History: ['Draw', 'Erase']\n",
      "Redo Stack: []\n"
     ]
    }
   ],
   "source": [
    "class UndoRedo:\n",
    "    def __init__(self):\n",
    "        self.history = []\n",
    "        self.redo_stack = []\n",
    "\n",
    "    def action(self, command):\n",
    "        self.history.append(command)\n",
    "        self.redo_stack.clear()  # Clear redo stack on new action\n",
    "\n",
    "    def undo(self):\n",
    "        if self.history:\n",
    "            self.redo_stack.append(self.history.pop())\n",
    "\n",
    "    def redo(self):\n",
    "        if self.redo_stack:\n",
    "            self.history.append(self.redo_stack.pop())\n",
    "\n",
    "    def display(self):\n",
    "        print(\"History:\", self.history)\n",
    "        print(\"Redo Stack:\", self.redo_stack)\n",
    "\n",
    "# Example Usage\n",
    "ur = UndoRedo()\n",
    "ur.action(\"Draw\")\n",
    "ur.action(\"Erase\")\n",
    "ur.undo()\n",
    "ur.display()  # Output: History: ['Draw'], Redo Stack: ['Erase']\n",
    "ur.redo()\n",
    "ur.display()  # Output: History: ['Draw', 'Erase'], Redo Stack: []\n"
   ]
  }
 ],
 "metadata": {
  "kernelspec": {
   "display_name": "Python 3 (ipykernel)",
   "language": "python",
   "name": "python3"
  },
  "language_info": {
   "codemirror_mode": {
    "name": "ipython",
    "version": 3
   },
   "file_extension": ".py",
   "mimetype": "text/x-python",
   "name": "python",
   "nbconvert_exporter": "python",
   "pygments_lexer": "ipython3",
   "version": "3.12.4"
  }
 },
 "nbformat": 4,
 "nbformat_minor": 5
}
