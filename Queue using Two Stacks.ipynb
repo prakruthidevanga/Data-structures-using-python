{
 "cells": [
  {
   "cell_type": "code",
   "execution_count": 7,
   "id": "b6ff6e76-f4c4-4565-b3d5-032c11dac953",
   "metadata": {},
   "outputs": [
    {
     "name": "stdout",
     "output_type": "stream",
     "text": [
      "1\n",
      "2\n",
      "False\n"
     ]
    }
   ],
   "source": [
    "class Queue:\n",
    "    def __init__(self):\n",
    "        self.stack1 = []\n",
    "        self.stack2 = []\n",
    "\n",
    "    def enqueue(self, x):\n",
    "        self.stack1.append(x)\n",
    "\n",
    "    def dequeue(self):\n",
    "        if len(self.stack2) == 0:\n",
    "            while len(self.stack1) > 0:\n",
    "                self.stack2.append(self.stack1.pop())\n",
    "        return self.stack2.pop()\n",
    "\n",
    "    def peek(self):\n",
    "        if len(self.stack2) == 0:\n",
    "            while len(self.stack1) > 0:\n",
    "                self.stack2.append(self.stack1.pop())\n",
    "        return self.stack2[-1]\n",
    "\n",
    "    def is_empty(self):\n",
    "        return len(self.stack1) == 0 and len(self.stack2) == 0\n",
    "\n",
    "# Example usage:\n",
    "q = Queue()\n",
    "q.enqueue(1)\n",
    "q.enqueue(2)\n",
    "q.enqueue(3)\n",
    "print(q.dequeue())  # prints 1\n",
    "print(q.peek())  # prints 2\n",
    "print(q.is_empty())  # prints False"
   ]
  },
  {
   "cell_type": "code",
   "execution_count": null,
   "id": "3bba7b23-4316-4293-a259-c578552daf70",
   "metadata": {},
   "outputs": [],
   "source": []
  }
 ],
 "metadata": {
  "kernelspec": {
   "display_name": "Python 3 (ipykernel)",
   "language": "python",
   "name": "python3"
  },
  "language_info": {
   "codemirror_mode": {
    "name": "ipython",
    "version": 3
   },
   "file_extension": ".py",
   "mimetype": "text/x-python",
   "name": "python",
   "nbconvert_exporter": "python",
   "pygments_lexer": "ipython3",
   "version": "3.12.4"
  }
 },
 "nbformat": 4,
 "nbformat_minor": 5
}
