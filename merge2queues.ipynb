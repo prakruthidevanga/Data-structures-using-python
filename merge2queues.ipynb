{
 "cells": [
  {
   "cell_type": "code",
   "execution_count": 1,
   "id": "a47cdf15-433c-4d4a-bfaf-be06b903748c",
   "metadata": {},
   "outputs": [
    {
     "name": "stdout",
     "output_type": "stream",
     "text": [
      "1\n",
      "2\n",
      "3\n",
      "4\n",
      "5\n",
      "6\n"
     ]
    }
   ],
   "source": [
    "#merge2queues\n",
    "\n",
    "class Queue:\n",
    "    def __init__(self):\n",
    "        self.items = []\n",
    "\n",
    "    def enqueue(self, x):\n",
    "        self.items.append(x)\n",
    "\n",
    "    def dequeue(self):\n",
    "        return self.items.pop(0)\n",
    "\n",
    "    def is_empty(self):\n",
    "        return not self.items\n",
    "\n",
    "def merge_queues(q1, q2):\n",
    "    result = Queue()\n",
    "    while not q1.is_empty() or not q2.is_empty():\n",
    "        if not q1.is_empty():\n",
    "            result.enqueue(q1.dequeue())\n",
    "        if not q2.is_empty():\n",
    "            result.enqueue(q2.dequeue())\n",
    "    return result\n",
    "\n",
    "# Example usage:\n",
    "q1 = Queue()\n",
    "q1.enqueue(1)\n",
    "q1.enqueue(3)\n",
    "q1.enqueue(5)\n",
    "\n",
    "q2 = Queue()\n",
    "q2.enqueue(2)\n",
    "q2.enqueue(4)\n",
    "q2.enqueue(6)\n",
    "\n",
    "merged_q = merge_queues(q1, q2)\n",
    "while not merged_q.is_empty():\n",
    "    print(merged_q.dequeue())"
   ]
  },
  {
   "cell_type": "code",
   "execution_count": null,
   "id": "1ff25197-ff5b-42d9-8509-6d4268ec1dbe",
   "metadata": {},
   "outputs": [],
   "source": []
  }
 ],
 "metadata": {
  "kernelspec": {
   "display_name": "Python 3 (ipykernel)",
   "language": "python",
   "name": "python3"
  },
  "language_info": {
   "codemirror_mode": {
    "name": "ipython",
    "version": 3
   },
   "file_extension": ".py",
   "mimetype": "text/x-python",
   "name": "python",
   "nbconvert_exporter": "python",
   "pygments_lexer": "ipython3",
   "version": "3.12.4"
  }
 },
 "nbformat": 4,
 "nbformat_minor": 5
}
