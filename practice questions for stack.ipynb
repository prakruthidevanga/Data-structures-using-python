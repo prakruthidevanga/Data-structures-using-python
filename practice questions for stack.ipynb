{
 "cells": [
  {
   "cell_type": "code",
   "execution_count": 1,
   "id": "43b8c5cd-a8d3-444f-be5d-4d9734c1a41e",
   "metadata": {},
   "outputs": [
    {
     "name": "stdout",
     "output_type": "stream",
     "text": [
      "Original String: monkey\n",
      "Reversed String: yeknom\n"
     ]
    }
   ],
   "source": [
    "def reverse_string_using_stack(s):\n",
    "    stack = []  # Step 1: Initialize an empty stack\n",
    "\n",
    "    # Step 2: Push all characters of the string onto the stack\n",
    "    for char in s:\n",
    "        stack.append(char)\n",
    "    \n",
    "    r = []  # Step 3: Initialize an empty list to store reversed characters\n",
    "\n",
    "    # Step 4: Pop characters from stack and append to r[]\n",
    "    while stack:\n",
    "        r.append(stack.pop())\n",
    "    \n",
    "    # Step 5: Convert list back to a string and return\n",
    "    return \"\".join(r)\n",
    "\n",
    "# Example usage\n",
    "input_string = \"monkey\"\n",
    "reversed_string = reverse_string_using_stack(input_string)\n",
    "print(\"Original String:\", input_string)\n",
    "print(\"Reversed String:\", reversed_string)"
   ]
  },
  {
   "cell_type": "code",
   "execution_count": null,
   "id": "0b9ac946-71a5-4120-a8a6-ba54436f0056",
   "metadata": {},
   "outputs": [],
   "source": [
    "def reverse_string_using_stack(s):\n",
    "    stack = []  # Step 1: Initialize an empty stack\n",
    "\n",
    "    # Step 2: Push all characters of the string onto the stack\n",
    "    for char in s:\n",
    "        stack.append(char)\n",
    "    \n",
    "    r = []  # Step 3: Initialize an empty list to store reversed characters\n",
    "\n",
    "    # Step 4: Pop characters from stack and append to r[]\n",
    "    while stack:\n",
    "        r.append(stack.pop())\n",
    "    \n",
    "    # Step 5: Convert list back to a string and return\n",
    "    return \"\".join(r)\n",
    "\n",
    "# Example usage\n",
    "input_string = \"monkey\"\n",
    "reversed_string = reverse_string_using_stack(input_string)\n",
    "print(\"Original String:\", input_string)\n",
    "print(\"Reversed String:\", reversed_string)"
   ]
  },
  {
   "cell_type": "code",
   "execution_count": 5,
   "id": "5cd0050c-6c4d-4996-aa38-8467179df4bb",
   "metadata": {},
   "outputs": [
    {
     "name": "stdout",
     "output_type": "stream",
     "text": [
      "3\n",
      "0\n",
      "200\n"
     ]
    }
   ],
   "source": [
    "def evaluate_expressions(expressions):\n",
    "    results = []\n",
    "    for expr in expressions:\n",
    "        try:\n",
    "            results.append(str(int(eval(expr))))  # Evaluate and convert to integer\n",
    "        except Exception as e:\n",
    "            results.append(f\"Error: {e}\")  # Handle any errors\n",
    "    return results\n",
    "\n",
    "# Sample input expressions\n",
    "expressions = [\n",
    "    \"1 + 2\",\n",
    "    \"(1 + 2) / 5\",\n",
    "    \"10 * 20\"\n",
    "]\n",
    "\n",
    "# Evaluate and print results\n",
    "output = evaluate_expressions(expressions)\n",
    "for result in output:\n",
    "    print(result)"
   ]
  },
  {
   "cell_type": "code",
   "execution_count": null,
   "id": "4aad6de2-d351-40c6-99cd-b0d6aba93d2e",
   "metadata": {},
   "outputs": [],
   "source": []
  }
 ],
 "metadata": {
  "kernelspec": {
   "display_name": "Python 3 (ipykernel)",
   "language": "python",
   "name": "python3"
  },
  "language_info": {
   "codemirror_mode": {
    "name": "ipython",
    "version": 3
   },
   "file_extension": ".py",
   "mimetype": "text/x-python",
   "name": "python",
   "nbconvert_exporter": "python",
   "pygments_lexer": "ipython3",
   "version": "3.12.4"
  }
 },
 "nbformat": 4,
 "nbformat_minor": 5
}
