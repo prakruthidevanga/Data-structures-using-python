{
 "cells": [
  {
   "cell_type": "code",
   "execution_count": 17,
   "id": "57d5d7f3-e2f4-4835-ac71-653e0eff29e2",
   "metadata": {},
   "outputs": [
    {
     "name": "stdout",
     "output_type": "stream",
     "text": [
      "10\n",
      "40\n",
      "None\n",
      "array('i', [10, 20, 80, 30, 40, 50])\n",
      "None\n",
      "array('i', [10, 20, 80, 30, 50])\n",
      "4\n",
      "array('i', [100, 20, 80, 30, 50])\n"
     ]
    }
   ],
   "source": [
    "#array operations\n",
    "import array as arr\n",
    "x=arr.array(\"i\",[10,20,30,40,50])\n",
    "print(x[0])#accessing the elements\n",
    "print(x[3])\n",
    "print(x.insert(2,80))#insert operations\n",
    "print(x)\n",
    "print(x.remove(40))#deletion of an element\n",
    "print(x)\n",
    "print(x.index(50))#searching an element\n",
    "x[0]=100#updating an element\n",
    "print(x)"
   ]
  },
  {
   "cell_type": "code",
   "execution_count": 9,
   "id": "5e4b2f87-a42e-4fdb-96cc-146fe7b308d8",
   "metadata": {},
   "outputs": [
    {
     "name": "stdout",
     "output_type": "stream",
     "text": [
      "10\n",
      "30\n",
      "[ 10  20 100  30  40  50]\n"
     ]
    }
   ],
   "source": [
    "import numpy as np\n",
    "x=np.array([10,20,30,40,50])\n",
    "print(x[0])\n",
    "print(x[2])\n",
    "#inserting an element\n",
    "y=np.insert(x,2,100)\n",
    "print(y)"
   ]
  }
 ],
 "metadata": {
  "kernelspec": {
   "display_name": "Python 3 (ipykernel)",
   "language": "python",
   "name": "python3"
  },
  "language_info": {
   "codemirror_mode": {
    "name": "ipython",
    "version": 3
   },
   "file_extension": ".py",
   "mimetype": "text/x-python",
   "name": "python",
   "nbconvert_exporter": "python",
   "pygments_lexer": "ipython3",
   "version": "3.12.4"
  }
 },
 "nbformat": 4,
 "nbformat_minor": 5
}
