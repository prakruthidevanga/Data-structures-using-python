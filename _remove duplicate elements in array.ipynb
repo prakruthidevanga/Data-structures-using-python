{
 "cells": [
  {
   "cell_type": "code",
   "execution_count": 17,
   "id": "66fc6d49-df89-48f0-8ebf-48397fa6ba13",
   "metadata": {},
   "outputs": [
    {
     "name": "stdout",
     "output_type": "stream",
     "text": [
      "<class 'numpy.ndarray'>\n",
      "[ 10  20  30  40  50   0 100]\n"
     ]
    }
   ],
   "source": [
    "# FIND THE REMOVE DUPLICATE ELEMENTS IN AN ARRAY:-\n",
    "#looping and membership\n",
    "import numpy as np\n",
    "x=np.array([10,20,30,40,50,10,0,30,100])\n",
    "def r_dup(x):\n",
    "    new_arr=[]\n",
    "    for i in x:\n",
    "        if i not in new_arr:\n",
    "            new_arr.append(i)\n",
    "    return np.array(new_arr)\n",
    "result=r_dup(x)\n",
    "print(type(result))\n",
    "print(result)"
   ]
  },
  {
   "cell_type": "code",
   "execution_count": 19,
   "id": "dfd73b40-474b-45e8-a851-7947b46f72c4",
   "metadata": {},
   "outputs": [
    {
     "name": "stdout",
     "output_type": "stream",
     "text": [
      "<class 'numpy.ndarray'>\n",
      "[  0 100  40  10  50  20  30]\n"
     ]
    }
   ],
   "source": [
    "# FIND THE REMOVE DUPLICATE ELEMENTS IN AN ARRAY:-\n",
    "#type conversion\n",
    "import numpy as np\n",
    "x=np.array([10,20,30,40,50,10,0,30,100])\n",
    "def r_dup(x):\n",
    "    res=list(set(x))#type conversion\n",
    "    return np.array(res)\n",
    "result=r_dup(x)\n",
    "print(type(result))\n",
    "print(result)"
   ]
  },
  {
   "cell_type": "code",
   "execution_count": null,
   "id": "ba491148-b113-4318-a3f1-400f92a28fba",
   "metadata": {},
   "outputs": [],
   "source": []
  }
 ],
 "metadata": {
  "kernelspec": {
   "display_name": "Python 3 (ipykernel)",
   "language": "python",
   "name": "python3"
  },
  "language_info": {
   "codemirror_mode": {
    "name": "ipython",
    "version": 3
   },
   "file_extension": ".py",
   "mimetype": "text/x-python",
   "name": "python",
   "nbconvert_exporter": "python",
   "pygments_lexer": "ipython3",
   "version": "3.12.4"
  }
 },
 "nbformat": 4,
 "nbformat_minor": 5
}
