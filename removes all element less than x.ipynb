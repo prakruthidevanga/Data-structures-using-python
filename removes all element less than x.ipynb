{
 "cells": [
  {
   "cell_type": "markdown",
   "id": "3b21f0f7-968f-45c4-838b-f7f883f7c786",
   "metadata": {},
   "source": [
    "remove all elements less than X"
   ]
  },
  {
   "cell_type": "code",
   "execution_count": 5,
   "id": "f404b93c-d0c9-4206-93bb-a609c835fa56",
   "metadata": {},
   "outputs": [
    {
     "name": "stdout",
     "output_type": "stream",
     "text": [
      "Filtered Stack: [10, 7, 15]\n"
     ]
    }
   ],
   "source": [
    "def remove_less_than_x(stack, x):\n",
    "    temp_stack = []\n",
    "    \n",
    "    # Step 1: Move valid elements to temp_stack\n",
    "    while stack:\n",
    "        element = stack.pop()\n",
    "        if element >= x:\n",
    "            temp_stack.append(element)\n",
    "    \n",
    "    # Step 2: Restore filtered elements back to stack\n",
    "    while temp_stack:\n",
    "        stack.append(temp_stack.pop())\n",
    "\n",
    "# Example Usage\n",
    "stack = [3, 10, 7, 2, 15, 1]\n",
    "x = 5\n",
    "remove_less_than_x(stack, x)\n",
    "print(\"Filtered Stack:\", stack)  \n"
   ]
  },
  {
   "cell_type": "code",
   "execution_count": null,
   "id": "f9f41080-1cb4-453e-98f8-b5fd87731ed1",
   "metadata": {},
   "outputs": [],
   "source": []
  }
 ],
 "metadata": {
  "kernelspec": {
   "display_name": "Python 3 (ipykernel)",
   "language": "python",
   "name": "python3"
  },
  "language_info": {
   "codemirror_mode": {
    "name": "ipython",
    "version": 3
   },
   "file_extension": ".py",
   "mimetype": "text/x-python",
   "name": "python",
   "nbconvert_exporter": "python",
   "pygments_lexer": "ipython3",
   "version": "3.12.4"
  }
 },
 "nbformat": 4,
 "nbformat_minor": 5
}
