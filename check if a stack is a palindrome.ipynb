{
 "cells": [
  {
   "cell_type": "markdown",
   "id": "d5f3a04a-848d-4d9d-8a63-aed3ba7d8a49",
   "metadata": {},
   "source": [
    "check if a stack is a palindrome"
   ]
  },
  {
   "cell_type": "code",
   "execution_count": 1,
   "id": "e16dfe0a-fbfe-4baf-8f4e-96de10a619a8",
   "metadata": {},
   "outputs": [
    {
     "name": "stdout",
     "output_type": "stream",
     "text": [
      "Stack1 is palindrome: True\n",
      "Stack2 is palindrome: False\n"
     ]
    }
   ],
   "source": [
    "def is_palindrome(stack):\n",
    "    return stack == stack[::-1]\n",
    "\n",
    "# Example Usage\n",
    "stack1 = [1, 2, 3, 2, 1]\n",
    "stack2 = [1, 2, 3, 4, 5]\n",
    "\n",
    "print(\"Stack1 is palindrome:\", is_palindrome(stack1))  # Output: True\n",
    "print(\"Stack2 is palindrome:\", is_palindrome(stack2))  # Output: False\n"
   ]
  }
 ],
 "metadata": {
  "kernelspec": {
   "display_name": "Python 3 (ipykernel)",
   "language": "python",
   "name": "python3"
  },
  "language_info": {
   "codemirror_mode": {
    "name": "ipython",
    "version": 3
   },
   "file_extension": ".py",
   "mimetype": "text/x-python",
   "name": "python",
   "nbconvert_exporter": "python",
   "pygments_lexer": "ipython3",
   "version": "3.12.4"
  }
 },
 "nbformat": 4,
 "nbformat_minor": 5
}
