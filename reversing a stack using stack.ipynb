{
 "cells": [
  {
   "cell_type": "markdown",
   "id": "8ac404c3-c8a7-4ba8-9474-45f23c598561",
   "metadata": {},
   "source": [
    "reversing a stack using stack"
   ]
  },
  {
   "cell_type": "code",
   "execution_count": 7,
   "id": "9abb82d5-612f-4210-aec1-9daee3fb5e28",
   "metadata": {},
   "outputs": [
    {
     "name": "stdout",
     "output_type": "stream",
     "text": [
      "Original Stack:\n",
      "[1, 2, 3, 4]\n",
      "Reversed Stack:\n",
      "[4, 3, 2, 1]\n"
     ]
    }
   ],
   "source": [
    "class Stack:\n",
    "    def __init__(self):\n",
    "        self.stack = []\n",
    "\n",
    "    def push(self, x):\n",
    "        self.stack.append(x)\n",
    "\n",
    "    def pop(self):\n",
    "        if not self.is_empty():\n",
    "            return self.stack.pop()\n",
    "        return \"Stack is empty\"\n",
    "\n",
    "    def peek(self):\n",
    "        if not self.is_empty():\n",
    "            return self.stack[-1]\n",
    "        return \"Stack is empty\"\n",
    "\n",
    "    def is_empty(self):\n",
    "        return len(self.stack) == 0\n",
    "\n",
    "    def display(self):\n",
    "        print(self.stack)\n",
    "\n",
    "    def reverse(self):\n",
    "        temp_stack = []\n",
    "        while not self.is_empty():\n",
    "            temp_stack.append(self.pop())\n",
    "        self.stack = temp_stack  # Copy reversed elements back to the original stack\n",
    "\n",
    "# Example Usage\n",
    "s = Stack()\n",
    "s.push(1)\n",
    "s.push(2)\n",
    "s.push(3)\n",
    "s.push(4)\n",
    "print(\"Original Stack:\")\n",
    "s.display()\n",
    "\n",
    "s.reverse()\n",
    "print(\"Reversed Stack:\")\n",
    "s.display()\n"
   ]
  }
 ],
 "metadata": {
  "kernelspec": {
   "display_name": "Python 3 (ipykernel)",
   "language": "python",
   "name": "python3"
  },
  "language_info": {
   "codemirror_mode": {
    "name": "ipython",
    "version": 3
   },
   "file_extension": ".py",
   "mimetype": "text/x-python",
   "name": "python",
   "nbconvert_exporter": "python",
   "pygments_lexer": "ipython3",
   "version": "3.12.4"
  }
 },
 "nbformat": 4,
 "nbformat_minor": 5
}
