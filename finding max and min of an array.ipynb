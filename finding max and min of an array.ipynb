{
 "cells": [
  {
   "cell_type": "code",
   "execution_count": 3,
   "id": "108df2b6-bd55-4884-a003-a2bcd4d824c4",
   "metadata": {},
   "outputs": [
    {
     "data": {
      "text/plain": [
       "(10, 50)"
      ]
     },
     "execution_count": 3,
     "metadata": {},
     "output_type": "execute_result"
    }
   ],
   "source": [
    "# Find the largest and smallest element in an array \n",
    "import numpy as np\n",
    "x=np.array([10,20,30,40,50])\n",
    "def min_max(x):\n",
    "    min_e=np.min(x)\n",
    "    max_e=np.max(x)\n",
    "    return min_e,max_e\n",
    "min_max(x)"
   ]
  },
  {
   "cell_type": "code",
   "execution_count": null,
   "id": "cb713045-d519-4470-9837-1c7e5637555c",
   "metadata": {},
   "outputs": [],
   "source": []
  }
 ],
 "metadata": {
  "kernelspec": {
   "display_name": "Python 3 (ipykernel)",
   "language": "python",
   "name": "python3"
  },
  "language_info": {
   "codemirror_mode": {
    "name": "ipython",
    "version": 3
   },
   "file_extension": ".py",
   "mimetype": "text/x-python",
   "name": "python",
   "nbconvert_exporter": "python",
   "pygments_lexer": "ipython3",
   "version": "3.12.4"
  }
 },
 "nbformat": 4,
 "nbformat_minor": 5
}
