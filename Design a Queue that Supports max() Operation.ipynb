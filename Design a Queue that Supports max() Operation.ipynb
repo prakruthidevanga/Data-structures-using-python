{
 "cells": [
  {
   "cell_type": "markdown",
   "id": "f7f47aa8-1f03-40d6-8554-fae1004c8102",
   "metadata": {},
   "source": [
    "Design a Queue that Supports max() Operation"
   ]
  },
  {
   "cell_type": "code",
   "execution_count": 15,
   "id": "694f6c67-6d18-47cc-829d-5f2ba31317a7",
   "metadata": {},
   "outputs": [
    {
     "name": "stdout",
     "output_type": "stream",
     "text": [
      "3\n",
      "1\n",
      "3\n"
     ]
    }
   ],
   "source": [
    "class MaxQueue:\n",
    "    def __init__(self):\n",
    "        self.queue = []\n",
    "        self.max_stack = []\n",
    "\n",
    "    def enqueue(self, x):\n",
    "        self.queue.append(x)\n",
    "        while self.max_stack and x >= self.max_stack[-1]:\n",
    "            self.max_stack.pop()\n",
    "        self.max_stack.append(x)\n",
    "\n",
    "    def dequeue(self):\n",
    "        if self.queue:\n",
    "            x = self.queue.pop(0)\n",
    "            if x == self.max_stack[-1]:\n",
    "                self.max_stack.pop()\n",
    "            return x\n",
    "        return None\n",
    "\n",
    "    def max(self):\n",
    "        if self.max_stack:\n",
    "            return self.max_stack[-1]\n",
    "        return None\n",
    "\n",
    "# Example usage:\n",
    "q = MaxQueue()\n",
    "q.enqueue(1)\n",
    "q.enqueue(2)\n",
    "q.enqueue(3)\n",
    "print(q.max())  \n",
    "print(q.dequeue())  # \n",
    "print(q.max())  \n"
   ]
  },
  {
   "cell_type": "code",
   "execution_count": 11,
   "id": "24365f29-1b06-4aa1-891f-65e0ab48fe0d",
   "metadata": {},
   "outputs": [
    {
     "name": "stdout",
     "output_type": "stream",
     "text": [
      "3\n",
      "2\n",
      "1\n"
     ]
    }
   ],
   "source": []
  },
  {
   "cell_type": "code",
   "execution_count": null,
   "id": "441a0f66-cd41-4e29-8252-6cebb7932745",
   "metadata": {},
   "outputs": [],
   "source": []
  }
 ],
 "metadata": {
  "kernelspec": {
   "display_name": "Python 3 (ipykernel)",
   "language": "python",
   "name": "python3"
  },
  "language_info": {
   "codemirror_mode": {
    "name": "ipython",
    "version": 3
   },
   "file_extension": ".py",
   "mimetype": "text/x-python",
   "name": "python",
   "nbconvert_exporter": "python",
   "pygments_lexer": "ipython3",
   "version": "3.12.4"
  }
 },
 "nbformat": 4,
 "nbformat_minor": 5
}
