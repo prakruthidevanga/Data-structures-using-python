{
 "cells": [
  {
   "cell_type": "code",
   "execution_count": 11,
   "id": "10538a55-452a-4f8b-aca4-0a1bbe9e2fc6",
   "metadata": {},
   "outputs": [
    {
     "name": "stdout",
     "output_type": "stream",
     "text": [
      "[0, 2, 4, 6, 7, 8, 9]\n"
     ]
    }
   ],
   "source": [
    "#bubble sorting\n",
    "list1=[0,9,7,8,6,4,2]\n",
    "n=len(list1)\n",
    "for i in range(n):\n",
    "    for j in range(n-i-1):\n",
    "        if list1[j]>list1[j+1]:\n",
    "            temp=list1[j]\n",
    "            list1[j]=list1[j+1]\n",
    "            list1[j+1]=temp\n",
    "print(list1)"
   ]
  },
  {
   "cell_type": "code",
   "execution_count": 9,
   "id": "e50b3cf6-ec78-4451-80d1-24d19a7ea7a6",
   "metadata": {},
   "outputs": [
    {
     "name": "stdout",
     "output_type": "stream",
     "text": [
      "[10, 20, 40, 50, 60, 70]\n"
     ]
    }
   ],
   "source": [
    "#selection sorting\n",
    "list=[10,20,70,40,60,50]\n",
    "n=len(list)\n",
    "for i in range(n):\n",
    "    min=list[i]\n",
    "    position=i\n",
    "    for j in range(i+1,n):\n",
    "        if list[j]<min:\n",
    "           min=list[j]\n",
    "           position=j\n",
    "        if i!=position:\n",
    "            temp=list[i]\n",
    "            list[i]=list[position]\n",
    "            list[position]=temp\n",
    "print(list)"
   ]
  },
  {
   "cell_type": "code",
   "execution_count": 19,
   "id": "23de1b4c-6b45-40fb-aaf3-275333325ccb",
   "metadata": {},
   "outputs": [
    {
     "name": "stdout",
     "output_type": "stream",
     "text": [
      "[10, 30, 40, 50, 60, 80]\n"
     ]
    }
   ],
   "source": [
    "#insertion sorting\n",
    "list2=[10,30,40,60,80,50]\n",
    "n=len(list2)\n",
    "for i in range(1,n):\n",
    "    temp=list2[i]\n",
    "    j=i-1\n",
    "    while temp<list2[j] and j>=0:\n",
    "        list2[j+1]=list2[j]\n",
    "        j=j-1\n",
    "        list2[j+1]=temp\n",
    "print(list2)"
   ]
  },
  {
   "cell_type": "code",
   "execution_count": null,
   "id": "e40e8a48-faef-41ff-9d7c-3c355e78b60e",
   "metadata": {},
   "outputs": [],
   "source": []
  }
 ],
 "metadata": {
  "kernelspec": {
   "display_name": "Python 3 (ipykernel)",
   "language": "python",
   "name": "python3"
  },
  "language_info": {
   "codemirror_mode": {
    "name": "ipython",
    "version": 3
   },
   "file_extension": ".py",
   "mimetype": "text/x-python",
   "name": "python",
   "nbconvert_exporter": "python",
   "pygments_lexer": "ipython3",
   "version": "3.12.4"
  }
 },
 "nbformat": 4,
 "nbformat_minor": 5
}
