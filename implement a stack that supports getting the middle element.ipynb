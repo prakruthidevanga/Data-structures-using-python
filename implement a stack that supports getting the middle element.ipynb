{
 "cells": [
  {
   "cell_type": "markdown",
   "id": "bbf3ef80-9ec0-4287-a84d-1347f407a683",
   "metadata": {},
   "source": [
    "implement a stack that supports getting the middle element"
   ]
  },
  {
   "cell_type": "code",
   "execution_count": 1,
   "id": "764d93b2-711c-429a-b308-ba6335824660",
   "metadata": {},
   "outputs": [
    {
     "name": "stdout",
     "output_type": "stream",
     "text": [
      "3\n",
      "5\n",
      "4\n",
      "2\n"
     ]
    }
   ],
   "source": [
    "#using doubly linked list\n",
    "\n",
    "\n",
    "class Node:\n",
    "    def __init__(self, data):\n",
    "        self.data = data\n",
    "        self.next = self.prev = None\n",
    "\n",
    "class Stack:\n",
    "    def __init__(self):\n",
    "        self.head = self.mid = None\n",
    "        self.size = 0\n",
    "\n",
    "    def push(self, x):\n",
    "        new_node = Node(x)\n",
    "        new_node.next, self.head = self.head, new_node\n",
    "        if self.head.next: \n",
    "            self.head.next.prev = self.head\n",
    "        if self.size == 0:  \n",
    "            self.mid = self.head\n",
    "        elif self.size % 2 == 0:  \n",
    "            self.mid = self.mid.prev\n",
    "        self.size += 1\n",
    "\n",
    "    def pop(self):\n",
    "        if not self.head:\n",
    "            print(\"Stack is empty\")\n",
    "            return\n",
    "        print(self.head.data)\n",
    "        self.head = self.head.next\n",
    "        if self.head:\n",
    "            self.head.prev = None\n",
    "        if self.size % 2 == 1:  \n",
    "            self.mid = self.mid.next\n",
    "        self.size -= 1\n",
    "\n",
    "    def get_middle(self):\n",
    "        print(self.mid.data if self.mid else \"Stack is empty\")\n",
    "\n",
    "# Example Usage\n",
    "s = Stack()\n",
    "for i in range(1, 6): s.push(i)\n",
    "\n",
    "s.get_middle()  # Output: 3\n",
    "s.pop()         # Output: 5\n",
    "s.pop()         # Output: 4\n",
    "s.get_middle()  # Output: 2\n"
   ]
  }
 ],
 "metadata": {
  "kernelspec": {
   "display_name": "Python 3 (ipykernel)",
   "language": "python",
   "name": "python3"
  },
  "language_info": {
   "codemirror_mode": {
    "name": "ipython",
    "version": 3
   },
   "file_extension": ".py",
   "mimetype": "text/x-python",
   "name": "python",
   "nbconvert_exporter": "python",
   "pygments_lexer": "ipython3",
   "version": "3.12.4"
  }
 },
 "nbformat": 4,
 "nbformat_minor": 5
}
