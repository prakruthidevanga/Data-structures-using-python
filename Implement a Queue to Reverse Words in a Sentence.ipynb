{
 "cells": [
  {
   "cell_type": "code",
   "execution_count": 1,
   "id": "d354e48a-ffd4-4b33-af49-130ddc935abf",
   "metadata": {},
   "outputs": [
    {
     "name": "stdout",
     "output_type": "stream",
     "text": [
      "Hello World this is Python\n"
     ]
    }
   ],
   "source": [
    "class Queue:\n",
    "    def __init__(self):\n",
    "        self.items = []\n",
    "\n",
    "    def enqueue(self, x):\n",
    "        self.items.append(x)\n",
    "\n",
    "    def dequeue(self):\n",
    "        return self.items.pop(0)\n",
    "\n",
    "    def is_empty(self):\n",
    "        return len(self.items) == 0\n",
    "\n",
    "def reverse_words(sentence):\n",
    "    words = sentence.split()\n",
    "    q = Queue()\n",
    "    for word in words:\n",
    "        q.enqueue(word)\n",
    "    reversed_words = []\n",
    "    while len(q.items) > 0:\n",
    "        reversed_words.append(q.dequeue())\n",
    "    return ' '.join(reversed_words)\n",
    "\n",
    "\n",
    "sentence = \"Hello World this is Python\"\n",
    "print(reverse_words(sentence))  # prints \"Python is this World Hello\"\n"
   ]
  },
  {
   "cell_type": "code",
   "execution_count": null,
   "id": "e759ead4-d843-43c0-93ae-ddd27b55f726",
   "metadata": {},
   "outputs": [],
   "source": []
  }
 ],
 "metadata": {
  "kernelspec": {
   "display_name": "Python 3 (ipykernel)",
   "language": "python",
   "name": "python3"
  },
  "language_info": {
   "codemirror_mode": {
    "name": "ipython",
    "version": 3
   },
   "file_extension": ".py",
   "mimetype": "text/x-python",
   "name": "python",
   "nbconvert_exporter": "python",
   "pygments_lexer": "ipython3",
   "version": "3.12.4"
  }
 },
 "nbformat": 4,
 "nbformat_minor": 5
}
