{
 "cells": [
  {
   "cell_type": "code",
   "execution_count": 25,
   "id": "03c517c4-5b81-4f7f-8524-d6b95c813b3e",
   "metadata": {},
   "outputs": [
    {
     "name": "stdout",
     "output_type": "stream",
     "text": [
      "\n",
      " program to implement the stack using list\n",
      "1.push\n",
      "2.pop\n",
      "3.peek\n",
      "4.display\n",
      "5.exit\n"
     ]
    },
    {
     "name": "stdin",
     "output_type": "stream",
     "text": [
      "Enter your choice 1\n",
      "Enter the data: 4\n"
     ]
    },
    {
     "name": "stdout",
     "output_type": "stream",
     "text": [
      "\n",
      " program to implement the stack using list\n",
      "1.push\n",
      "2.pop\n",
      "3.peek\n",
      "4.display\n",
      "5.exit\n"
     ]
    },
    {
     "name": "stdin",
     "output_type": "stream",
     "text": [
      "Enter your choice 2\n"
     ]
    },
    {
     "name": "stdout",
     "output_type": "stream",
     "text": [
      "Popped item =  4\n",
      "\n",
      " program to implement the stack using list\n",
      "1.push\n",
      "2.pop\n",
      "3.peek\n",
      "4.display\n",
      "5.exit\n"
     ]
    },
    {
     "name": "stdin",
     "output_type": "stream",
     "text": [
      "Enter your choice 3\n"
     ]
    },
    {
     "name": "stdout",
     "output_type": "stream",
     "text": [
      "Stack underflow\n",
      "\n",
      " program to implement the stack using list\n",
      "1.push\n",
      "2.pop\n",
      "3.peek\n",
      "4.display\n",
      "5.exit\n"
     ]
    },
    {
     "name": "stdin",
     "output_type": "stream",
     "text": [
      "Enter your choice 4\n"
     ]
    },
    {
     "name": "stdout",
     "output_type": "stream",
     "text": [
      "stack underflow\n",
      "\n",
      " program to implement the stack using list\n",
      "1.push\n",
      "2.pop\n",
      "3.peek\n",
      "4.display\n",
      "5.exit\n"
     ]
    },
    {
     "name": "stdin",
     "output_type": "stream",
     "text": [
      "Enter your choice 5\n"
     ]
    },
    {
     "name": "stdout",
     "output_type": "stream",
     "text": [
      "\n",
      "Quitting......\n"
     ]
    }
   ],
   "source": [
    "class Stack:\n",
    "    def __init__(self):\n",
    "        self.items = []\n",
    "\n",
    "    def isempty(self):\n",
    "        return self.items == []\n",
    "\n",
    "    def push(self,item):\n",
    "        return self.items.append(item)\n",
    "\n",
    "    def pop(self):\n",
    "        return self.items.pop()\n",
    "\n",
    "    def peek(self):\n",
    "        return self.items[len(self.items)-1]\n",
    "\n",
    "    def size(self):\n",
    "        return len(self.items)\n",
    "\n",
    "    def display(self):\n",
    "        top = len(self.items)\n",
    "        print()\n",
    "        for i in range(top,-1,-1):\n",
    "            print(self.items[i])\n",
    "\n",
    "s = Stack()\n",
    "while(True):\n",
    "    print(\"\\n program to implement the stack using list\")\n",
    "    print(\"1.push\")\n",
    "    print(\"2.pop\")\n",
    "    print(\"3.peek\")\n",
    "    print(\"4.display\")\n",
    "    print(\"5.exit\")\n",
    "    choice = int(input(\"Enter your choice\"))\n",
    "    if choice == 1:\n",
    "        num = int(input(\"Enter the data:\"))\n",
    "        s.push(num)\n",
    "    elif choice == 2:\n",
    "        if s.isempty():\n",
    "            print(\"Stack underflow\")\n",
    "        else:\n",
    "            num = s.pop()\n",
    "            print(\"Popped item = \",num)\n",
    "\n",
    "    elif choice == 3:\n",
    "        if s.isempty():\n",
    "            print(\"Stack underflow\")\n",
    "        else:\n",
    "            num = s.peek()\n",
    "            print(\"Peeked item = \",num)\n",
    "    elif choice == 4:\n",
    "        if s.isempty():\n",
    "            print (\"stack underflow\") \n",
    "        else:\n",
    "            s.display()\n",
    "    elif choice == 5:\n",
    "        print (\"\\nQuitting......\")\n",
    "        break\n",
    "    else:\n",
    "        print(\"invalid choice !!!! enter the choice (1-5):\")\n",
    "    \n",
    "        "
   ]
  },
  {
   "cell_type": "code",
   "execution_count": null,
   "id": "f496c948-91fb-4f78-b498-0c2725fbb861",
   "metadata": {},
   "outputs": [],
   "source": []
  }
 ],
 "metadata": {
  "kernelspec": {
   "display_name": "Python 3 (ipykernel)",
   "language": "python",
   "name": "python3"
  },
  "language_info": {
   "codemirror_mode": {
    "name": "ipython",
    "version": 3
   },
   "file_extension": ".py",
   "mimetype": "text/x-python",
   "name": "python",
   "nbconvert_exporter": "python",
   "pygments_lexer": "ipython3",
   "version": "3.12.4"
  }
 },
 "nbformat": 4,
 "nbformat_minor": 5
}
